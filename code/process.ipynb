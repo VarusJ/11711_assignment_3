{
 "cells": [
  {
   "cell_type": "markdown",
   "metadata": {},
   "source": [
    "# Process ISEAR Dataset"
   ]
  },
  {
   "cell_type": "code",
   "execution_count": 3,
   "id": "8471eca3-2c3f-4e2a-8ab4-f4190f157b7c",
   "metadata": {},
   "outputs": [
    {
     "data": {
      "text/html": [
       "<div>\n",
       "<style scoped>\n",
       "    .dataframe tbody tr th:only-of-type {\n",
       "        vertical-align: middle;\n",
       "    }\n",
       "\n",
       "    .dataframe tbody tr th {\n",
       "        vertical-align: top;\n",
       "    }\n",
       "\n",
       "    .dataframe thead th {\n",
       "        text-align: right;\n",
       "    }\n",
       "</style>\n",
       "<table border=\"1\" class=\"dataframe\">\n",
       "  <thead>\n",
       "    <tr style=\"text-align: right;\">\n",
       "      <th></th>\n",
       "      <th>ID</th>\n",
       "      <th>sentiment</th>\n",
       "      <th>content</th>\n",
       "    </tr>\n",
       "  </thead>\n",
       "  <tbody>\n",
       "    <tr>\n",
       "      <th>0</th>\n",
       "      <td>10941</td>\n",
       "      <td>anger</td>\n",
       "      <td>At the point today where if someone says somet...</td>\n",
       "    </tr>\n",
       "    <tr>\n",
       "      <th>1</th>\n",
       "      <td>10942</td>\n",
       "      <td>anger</td>\n",
       "      <td>@CorningFootball  IT'S GAME DAY!!!!      T MIN...</td>\n",
       "    </tr>\n",
       "    <tr>\n",
       "      <th>2</th>\n",
       "      <td>10943</td>\n",
       "      <td>anger</td>\n",
       "      <td>This game has pissed me off more than any othe...</td>\n",
       "    </tr>\n",
       "    <tr>\n",
       "      <th>3</th>\n",
       "      <td>10944</td>\n",
       "      <td>anger</td>\n",
       "      <td>@spamvicious I've just found out it's Candice ...</td>\n",
       "    </tr>\n",
       "    <tr>\n",
       "      <th>4</th>\n",
       "      <td>10945</td>\n",
       "      <td>anger</td>\n",
       "      <td>@moocowward @mrsajhargreaves @Melly77 @GaryBar...</td>\n",
       "    </tr>\n",
       "    <tr>\n",
       "      <th>...</th>\n",
       "      <td>...</td>\n",
       "      <td>...</td>\n",
       "      <td>...</td>\n",
       "    </tr>\n",
       "    <tr>\n",
       "      <th>7097</th>\n",
       "      <td>40781</td>\n",
       "      <td>sadness</td>\n",
       "      <td>@VivienLloyd Thank you so much! Just home - st...</td>\n",
       "    </tr>\n",
       "    <tr>\n",
       "      <th>7098</th>\n",
       "      <td>40782</td>\n",
       "      <td>sadness</td>\n",
       "      <td>Just put the winter duvet on ☃️❄️🌬☔️</td>\n",
       "    </tr>\n",
       "    <tr>\n",
       "      <th>7099</th>\n",
       "      <td>40783</td>\n",
       "      <td>sadness</td>\n",
       "      <td>@SilkInSide @TommyJoeRatliff that's so pretty!...</td>\n",
       "    </tr>\n",
       "    <tr>\n",
       "      <th>7100</th>\n",
       "      <td>40784</td>\n",
       "      <td>sadness</td>\n",
       "      <td>@BluesfestByron second artist announcement loo...</td>\n",
       "    </tr>\n",
       "    <tr>\n",
       "      <th>7101</th>\n",
       "      <td>40785</td>\n",
       "      <td>sadness</td>\n",
       "      <td>I can literally eat creamy pesto pasta topped ...</td>\n",
       "    </tr>\n",
       "  </tbody>\n",
       "</table>\n",
       "<p>7102 rows × 3 columns</p>\n",
       "</div>"
      ],
      "text/plain": [
       "         ID sentiment                                            content\n",
       "0     10941     anger  At the point today where if someone says somet...\n",
       "1     10942     anger  @CorningFootball  IT'S GAME DAY!!!!      T MIN...\n",
       "2     10943     anger  This game has pissed me off more than any othe...\n",
       "3     10944     anger  @spamvicious I've just found out it's Candice ...\n",
       "4     10945     anger  @moocowward @mrsajhargreaves @Melly77 @GaryBar...\n",
       "...     ...       ...                                                ...\n",
       "7097  40781   sadness  @VivienLloyd Thank you so much! Just home - st...\n",
       "7098  40782   sadness              Just put the winter duvet on ☃️❄️🌬☔️ \n",
       "7099  40783   sadness  @SilkInSide @TommyJoeRatliff that's so pretty!...\n",
       "7100  40784   sadness  @BluesfestByron second artist announcement loo...\n",
       "7101  40785   sadness  I can literally eat creamy pesto pasta topped ...\n",
       "\n",
       "[7102 rows x 3 columns]"
      ]
     },
     "execution_count": 3,
     "metadata": {},
     "output_type": "execute_result"
    }
   ],
   "source": [
    "import pandas as pd\n",
    "\n",
    "df = pd.read_csv('data/isear/eng_dataset.csv', header=0)\n",
    "\n",
    "df"
   ]
  },
  {
   "cell_type": "code",
   "execution_count": 40,
   "id": "6bea1fae-5eb2-4eb8-943b-244e7212d9a3",
   "metadata": {},
   "outputs": [],
   "source": [
    "emo2id = {\n",
    "    \"anger\": 0,\n",
    "    \"disgust\": 1,\n",
    "    \"fear\":2,\n",
    "    \"joy\":3,\n",
    "    \"neutral\":4,\n",
    "    \"sadness\":5,\n",
    "    \"surprise\":6\n",
    "}"
   ]
  },
  {
   "cell_type": "code",
   "execution_count": 41,
   "id": "b7ceec0d-1d53-40ba-bf79-7771635a28cc",
   "metadata": {},
   "outputs": [],
   "source": [
    "df['emo_id'] = df['sentiment'].map(emo2id)"
   ]
  },
  {
   "cell_type": "code",
   "execution_count": 42,
   "id": "350cbb77-575f-4812-893b-fd19ed424374",
   "metadata": {},
   "outputs": [
    {
     "data": {
      "text/html": [
       "<div>\n",
       "<style scoped>\n",
       "    .dataframe tbody tr th:only-of-type {\n",
       "        vertical-align: middle;\n",
       "    }\n",
       "\n",
       "    .dataframe tbody tr th {\n",
       "        vertical-align: top;\n",
       "    }\n",
       "\n",
       "    .dataframe thead th {\n",
       "        text-align: right;\n",
       "    }\n",
       "</style>\n",
       "<table border=\"1\" class=\"dataframe\">\n",
       "  <thead>\n",
       "    <tr style=\"text-align: right;\">\n",
       "      <th></th>\n",
       "      <th>ID</th>\n",
       "      <th>sentiment</th>\n",
       "      <th>content</th>\n",
       "      <th>emo_id</th>\n",
       "    </tr>\n",
       "  </thead>\n",
       "  <tbody>\n",
       "    <tr>\n",
       "      <th>0</th>\n",
       "      <td>10941</td>\n",
       "      <td>anger</td>\n",
       "      <td>At the point today where if someone says somet...</td>\n",
       "      <td>0</td>\n",
       "    </tr>\n",
       "    <tr>\n",
       "      <th>1</th>\n",
       "      <td>10942</td>\n",
       "      <td>anger</td>\n",
       "      <td>@CorningFootball  IT'S GAME DAY!!!!      T MIN...</td>\n",
       "      <td>0</td>\n",
       "    </tr>\n",
       "    <tr>\n",
       "      <th>2</th>\n",
       "      <td>10943</td>\n",
       "      <td>anger</td>\n",
       "      <td>This game has pissed me off more than any othe...</td>\n",
       "      <td>0</td>\n",
       "    </tr>\n",
       "    <tr>\n",
       "      <th>3</th>\n",
       "      <td>10944</td>\n",
       "      <td>anger</td>\n",
       "      <td>@spamvicious I've just found out it's Candice ...</td>\n",
       "      <td>0</td>\n",
       "    </tr>\n",
       "    <tr>\n",
       "      <th>4</th>\n",
       "      <td>10945</td>\n",
       "      <td>anger</td>\n",
       "      <td>@moocowward @mrsajhargreaves @Melly77 @GaryBar...</td>\n",
       "      <td>0</td>\n",
       "    </tr>\n",
       "    <tr>\n",
       "      <th>...</th>\n",
       "      <td>...</td>\n",
       "      <td>...</td>\n",
       "      <td>...</td>\n",
       "      <td>...</td>\n",
       "    </tr>\n",
       "    <tr>\n",
       "      <th>7097</th>\n",
       "      <td>40781</td>\n",
       "      <td>sadness</td>\n",
       "      <td>@VivienLloyd Thank you so much! Just home - st...</td>\n",
       "      <td>5</td>\n",
       "    </tr>\n",
       "    <tr>\n",
       "      <th>7098</th>\n",
       "      <td>40782</td>\n",
       "      <td>sadness</td>\n",
       "      <td>Just put the winter duvet on ☃️❄️🌬☔️</td>\n",
       "      <td>5</td>\n",
       "    </tr>\n",
       "    <tr>\n",
       "      <th>7099</th>\n",
       "      <td>40783</td>\n",
       "      <td>sadness</td>\n",
       "      <td>@SilkInSide @TommyJoeRatliff that's so pretty!...</td>\n",
       "      <td>5</td>\n",
       "    </tr>\n",
       "    <tr>\n",
       "      <th>7100</th>\n",
       "      <td>40784</td>\n",
       "      <td>sadness</td>\n",
       "      <td>@BluesfestByron second artist announcement loo...</td>\n",
       "      <td>5</td>\n",
       "    </tr>\n",
       "    <tr>\n",
       "      <th>7101</th>\n",
       "      <td>40785</td>\n",
       "      <td>sadness</td>\n",
       "      <td>I can literally eat creamy pesto pasta topped ...</td>\n",
       "      <td>5</td>\n",
       "    </tr>\n",
       "  </tbody>\n",
       "</table>\n",
       "<p>7102 rows × 4 columns</p>\n",
       "</div>"
      ],
      "text/plain": [
       "         ID sentiment                                            content  \\\n",
       "0     10941     anger  At the point today where if someone says somet...   \n",
       "1     10942     anger  @CorningFootball  IT'S GAME DAY!!!!      T MIN...   \n",
       "2     10943     anger  This game has pissed me off more than any othe...   \n",
       "3     10944     anger  @spamvicious I've just found out it's Candice ...   \n",
       "4     10945     anger  @moocowward @mrsajhargreaves @Melly77 @GaryBar...   \n",
       "...     ...       ...                                                ...   \n",
       "7097  40781   sadness  @VivienLloyd Thank you so much! Just home - st...   \n",
       "7098  40782   sadness              Just put the winter duvet on ☃️❄️🌬☔️    \n",
       "7099  40783   sadness  @SilkInSide @TommyJoeRatliff that's so pretty!...   \n",
       "7100  40784   sadness  @BluesfestByron second artist announcement loo...   \n",
       "7101  40785   sadness  I can literally eat creamy pesto pasta topped ...   \n",
       "\n",
       "      emo_id  \n",
       "0          0  \n",
       "1          0  \n",
       "2          0  \n",
       "3          0  \n",
       "4          0  \n",
       "...      ...  \n",
       "7097       5  \n",
       "7098       5  \n",
       "7099       5  \n",
       "7100       5  \n",
       "7101       5  \n",
       "\n",
       "[7102 rows x 4 columns]"
      ]
     },
     "execution_count": 42,
     "metadata": {},
     "output_type": "execute_result"
    }
   ],
   "source": [
    "df"
   ]
  },
  {
   "cell_type": "code",
   "execution_count": 43,
   "id": "a980a9d2-fcf5-434b-b881-af1b5b043f3e",
   "metadata": {},
   "outputs": [
    {
     "data": {
      "text/html": [
       "<div>\n",
       "<style scoped>\n",
       "    .dataframe tbody tr th:only-of-type {\n",
       "        vertical-align: middle;\n",
       "    }\n",
       "\n",
       "    .dataframe tbody tr th {\n",
       "        vertical-align: top;\n",
       "    }\n",
       "\n",
       "    .dataframe thead th {\n",
       "        text-align: right;\n",
       "    }\n",
       "</style>\n",
       "<table border=\"1\" class=\"dataframe\">\n",
       "  <thead>\n",
       "    <tr style=\"text-align: right;\">\n",
       "      <th></th>\n",
       "      <th>content</th>\n",
       "      <th>emo_id</th>\n",
       "      <th>ID</th>\n",
       "    </tr>\n",
       "  </thead>\n",
       "  <tbody>\n",
       "    <tr>\n",
       "      <th>0</th>\n",
       "      <td>At the point today where if someone says somet...</td>\n",
       "      <td>0</td>\n",
       "      <td>10941</td>\n",
       "    </tr>\n",
       "    <tr>\n",
       "      <th>1</th>\n",
       "      <td>@CorningFootball  IT'S GAME DAY!!!!      T MIN...</td>\n",
       "      <td>0</td>\n",
       "      <td>10942</td>\n",
       "    </tr>\n",
       "    <tr>\n",
       "      <th>2</th>\n",
       "      <td>This game has pissed me off more than any othe...</td>\n",
       "      <td>0</td>\n",
       "      <td>10943</td>\n",
       "    </tr>\n",
       "    <tr>\n",
       "      <th>3</th>\n",
       "      <td>@spamvicious I've just found out it's Candice ...</td>\n",
       "      <td>0</td>\n",
       "      <td>10944</td>\n",
       "    </tr>\n",
       "    <tr>\n",
       "      <th>4</th>\n",
       "      <td>@moocowward @mrsajhargreaves @Melly77 @GaryBar...</td>\n",
       "      <td>0</td>\n",
       "      <td>10945</td>\n",
       "    </tr>\n",
       "    <tr>\n",
       "      <th>...</th>\n",
       "      <td>...</td>\n",
       "      <td>...</td>\n",
       "      <td>...</td>\n",
       "    </tr>\n",
       "    <tr>\n",
       "      <th>7097</th>\n",
       "      <td>@VivienLloyd Thank you so much! Just home - st...</td>\n",
       "      <td>5</td>\n",
       "      <td>40781</td>\n",
       "    </tr>\n",
       "    <tr>\n",
       "      <th>7098</th>\n",
       "      <td>Just put the winter duvet on ☃️❄️🌬☔️</td>\n",
       "      <td>5</td>\n",
       "      <td>40782</td>\n",
       "    </tr>\n",
       "    <tr>\n",
       "      <th>7099</th>\n",
       "      <td>@SilkInSide @TommyJoeRatliff that's so pretty!...</td>\n",
       "      <td>5</td>\n",
       "      <td>40783</td>\n",
       "    </tr>\n",
       "    <tr>\n",
       "      <th>7100</th>\n",
       "      <td>@BluesfestByron second artist announcement loo...</td>\n",
       "      <td>5</td>\n",
       "      <td>40784</td>\n",
       "    </tr>\n",
       "    <tr>\n",
       "      <th>7101</th>\n",
       "      <td>I can literally eat creamy pesto pasta topped ...</td>\n",
       "      <td>5</td>\n",
       "      <td>40785</td>\n",
       "    </tr>\n",
       "  </tbody>\n",
       "</table>\n",
       "<p>7102 rows × 3 columns</p>\n",
       "</div>"
      ],
      "text/plain": [
       "                                                content  emo_id     ID\n",
       "0     At the point today where if someone says somet...       0  10941\n",
       "1     @CorningFootball  IT'S GAME DAY!!!!      T MIN...       0  10942\n",
       "2     This game has pissed me off more than any othe...       0  10943\n",
       "3     @spamvicious I've just found out it's Candice ...       0  10944\n",
       "4     @moocowward @mrsajhargreaves @Melly77 @GaryBar...       0  10945\n",
       "...                                                 ...     ...    ...\n",
       "7097  @VivienLloyd Thank you so much! Just home - st...       5  40781\n",
       "7098              Just put the winter duvet on ☃️❄️🌬☔️        5  40782\n",
       "7099  @SilkInSide @TommyJoeRatliff that's so pretty!...       5  40783\n",
       "7100  @BluesfestByron second artist announcement loo...       5  40784\n",
       "7101  I can literally eat creamy pesto pasta topped ...       5  40785\n",
       "\n",
       "[7102 rows x 3 columns]"
      ]
     },
     "execution_count": 43,
     "metadata": {},
     "output_type": "execute_result"
    }
   ],
   "source": [
    "df_tsv = df[['content', 'emo_id', 'ID']]\n",
    "df_tsv"
   ]
  },
  {
   "cell_type": "code",
   "execution_count": 44,
   "id": "652fe100-9657-477c-9abe-187e7a46a20a",
   "metadata": {},
   "outputs": [
    {
     "data": {
      "text/plain": [
       "{'anger': 0,\n",
       " 'disgust': 1,\n",
       " 'fear': 2,\n",
       " 'joy': 3,\n",
       " 'neutral': 4,\n",
       " 'sadness': 5,\n",
       " 'surprise': 6}"
      ]
     },
     "execution_count": 44,
     "metadata": {},
     "output_type": "execute_result"
    }
   ],
   "source": [
    "emo2id"
   ]
  },
  {
   "cell_type": "code",
   "execution_count": 45,
   "id": "eae48d8d-6287-4589-8137-7f1aec0cd6d1",
   "metadata": {},
   "outputs": [],
   "source": [
    "df_tsv.to_csv(\"data/isear/all_data.tsv\", sep=\"\\t\")"
   ]
  },
  {
   "cell_type": "code",
   "execution_count": 22,
   "id": "dad3321e-5f9a-4cbd-a88d-4deb31ccb476",
   "metadata": {},
   "outputs": [],
   "source": [
    "import collections\n",
    "from sklearn.model_selection import train_test_split\n"
   ]
  },
  {
   "cell_type": "code",
   "execution_count": 49,
   "id": "6ddddaa6-117f-469e-82b6-1c5ac68498cb",
   "metadata": {},
   "outputs": [
    {
     "data": {
      "text/plain": [
       "Counter({2: 1110, 0: 838, 3: 797, 5: 756})"
      ]
     },
     "metadata": {},
     "output_type": "display_data"
    },
    {
     "data": {
      "text/plain": [
       "Counter({2: 1110, 0: 839, 3: 796, 5: 756})"
      ]
     },
     "metadata": {},
     "output_type": "display_data"
    },
    {
     "data": {
      "text/plain": [
       "Counter({2: 1094, 0: 827, 3: 785, 5: 745})"
      ]
     },
     "metadata": {},
     "output_type": "display_data"
    },
    {
     "data": {
      "text/plain": [
       "Counter({2: 1095, 0: 826, 3: 785, 5: 745})"
      ]
     },
     "metadata": {},
     "output_type": "display_data"
    },
    {
     "data": {
      "text/plain": [
       "Counter({2: 1047, 0: 791, 3: 751, 5: 712})"
      ]
     },
     "metadata": {},
     "output_type": "display_data"
    },
    {
     "data": {
      "text/plain": [
       "Counter({2: 1047, 0: 790, 3: 751, 5: 713})"
      ]
     },
     "metadata": {},
     "output_type": "display_data"
    },
    {
     "data": {
      "text/plain": [
       "Counter({2: 967, 0: 731, 3: 694, 5: 659})"
      ]
     },
     "metadata": {},
     "output_type": "display_data"
    },
    {
     "data": {
      "text/plain": [
       "Counter({2: 968, 0: 731, 3: 694, 5: 658})"
      ]
     },
     "metadata": {},
     "output_type": "display_data"
    },
    {
     "data": {
      "text/plain": [
       "Counter({2: 225, 0: 170, 3: 161, 5: 154})"
      ]
     },
     "metadata": {},
     "output_type": "display_data"
    },
    {
     "data": {
      "text/plain": [
       "Counter({2: 226, 0: 170, 3: 162, 5: 153})"
      ]
     },
     "metadata": {},
     "output_type": "display_data"
    }
   ],
   "source": [
    "for size in [100,200,500,1000, int(0.8*len(df_tsv))]:\n",
    "    xtrain, xtest, ytrain, ytest = train_test_split(df_tsv, df_tsv['emo_id'], train_size=size, stratify=df_tsv['emo_id'])\n",
    "    xtrain.to_csv(f\"data/isear/train_data_{size}.tsv\", sep=\"\\t\", header=None, index=None)\n",
    "    xeval, xtest, yeval, ytest = train_test_split(xtest, xtest['emo_id'], train_size=len(xtest)//2, stratify=xtest['emo_id'])\n",
    "    display(collections.Counter(yeval))\n",
    "    display(collections.Counter(ytest))\n",
    "    xeval.to_csv(f\"data/isear/eval_data_{size}.tsv\", sep=\"\\t\", header=None, index=None)\n",
    "    xtest.to_csv(f\"data/isear/test_data_{size}.tsv\", sep=\"\\t\", header=None, index=None)\n",
    "\n",
    "\n",
    "    "
   ]
  },
  {
   "cell_type": "code",
   "execution_count": 32,
   "id": "80013344-42b7-4ee3-92fb-19c35564da0e",
   "metadata": {},
   "outputs": [
    {
     "data": {
      "text/html": [
       "<div>\n",
       "<style scoped>\n",
       "    .dataframe tbody tr th:only-of-type {\n",
       "        vertical-align: middle;\n",
       "    }\n",
       "\n",
       "    .dataframe tbody tr th {\n",
       "        vertical-align: top;\n",
       "    }\n",
       "\n",
       "    .dataframe thead th {\n",
       "        text-align: right;\n",
       "    }\n",
       "</style>\n",
       "<table border=\"1\" class=\"dataframe\">\n",
       "  <thead>\n",
       "    <tr style=\"text-align: right;\">\n",
       "      <th></th>\n",
       "      <th>content</th>\n",
       "      <th>emo_id</th>\n",
       "      <th>ID</th>\n",
       "    </tr>\n",
       "  </thead>\n",
       "  <tbody>\n",
       "    <tr>\n",
       "      <th>6879</th>\n",
       "      <td>Pops are joyless, soulless toys which look nea...</td>\n",
       "      <td>3</td>\n",
       "      <td>40563</td>\n",
       "    </tr>\n",
       "    <tr>\n",
       "      <th>6036</th>\n",
       "      <td>lol! no mention of pak PM or even his speech o...</td>\n",
       "      <td>2</td>\n",
       "      <td>30543</td>\n",
       "    </tr>\n",
       "    <tr>\n",
       "      <th>3376</th>\n",
       "      <td>@HunterDean_ [he gives a gleeful squeak and wr...</td>\n",
       "      <td>2</td>\n",
       "      <td>30863</td>\n",
       "    </tr>\n",
       "    <tr>\n",
       "      <th>5155</th>\n",
       "      <td>@TJ_FASHO lmao clown my own hair I'm going to ...</td>\n",
       "      <td>0</td>\n",
       "      <td>20809</td>\n",
       "    </tr>\n",
       "    <tr>\n",
       "      <th>6537</th>\n",
       "      <td>@everton_de_leon @sterushton Genuinely grim st...</td>\n",
       "      <td>3</td>\n",
       "      <td>40221</td>\n",
       "    </tr>\n",
       "    <tr>\n",
       "      <th>...</th>\n",
       "      <td>...</td>\n",
       "      <td>...</td>\n",
       "      <td>...</td>\n",
       "    </tr>\n",
       "    <tr>\n",
       "      <th>3884</th>\n",
       "      <td>If I spend more than £10 in shimmy on £1 drink...</td>\n",
       "      <td>1</td>\n",
       "      <td>10395</td>\n",
       "    </tr>\n",
       "    <tr>\n",
       "      <th>6809</th>\n",
       "      <td>The man who is a pessimist before 48 knows too...</td>\n",
       "      <td>3</td>\n",
       "      <td>40493</td>\n",
       "    </tr>\n",
       "    <tr>\n",
       "      <th>5275</th>\n",
       "      <td>@Mickeyplyler @QualkTalk the refs are in GT's ...</td>\n",
       "      <td>0</td>\n",
       "      <td>20929</td>\n",
       "    </tr>\n",
       "    <tr>\n",
       "      <th>3384</th>\n",
       "      <td>@hesham786 that's the spirit #optimism</td>\n",
       "      <td>2</td>\n",
       "      <td>30871</td>\n",
       "    </tr>\n",
       "    <tr>\n",
       "      <th>5556</th>\n",
       "      <td>@alpuzz Ah, but once I got it to work, there w...</td>\n",
       "      <td>2</td>\n",
       "      <td>30063</td>\n",
       "    </tr>\n",
       "  </tbody>\n",
       "</table>\n",
       "<p>100 rows × 3 columns</p>\n",
       "</div>"
      ],
      "text/plain": [
       "                                                content  emo_id     ID\n",
       "6879  Pops are joyless, soulless toys which look nea...       3  40563\n",
       "6036  lol! no mention of pak PM or even his speech o...       2  30543\n",
       "3376  @HunterDean_ [he gives a gleeful squeak and wr...       2  30863\n",
       "5155  @TJ_FASHO lmao clown my own hair I'm going to ...       0  20809\n",
       "6537  @everton_de_leon @sterushton Genuinely grim st...       3  40221\n",
       "...                                                 ...     ...    ...\n",
       "3884  If I spend more than £10 in shimmy on £1 drink...       1  10395\n",
       "6809  The man who is a pessimist before 48 knows too...       3  40493\n",
       "5275  @Mickeyplyler @QualkTalk the refs are in GT's ...       0  20929\n",
       "3384             @hesham786 that's the spirit #optimism       2  30871\n",
       "5556  @alpuzz Ah, but once I got it to work, there w...       2  30063\n",
       "\n",
       "[100 rows x 3 columns]"
      ]
     },
     "execution_count": 32,
     "metadata": {},
     "output_type": "execute_result"
    }
   ],
   "source": [
    "xtrain"
   ]
  }
 ],
 "metadata": {
  "kernelspec": {
   "display_name": "Python 3 (ipykernel)",
   "language": "python",
   "name": "python3"
  },
  "language_info": {
   "codemirror_mode": {
    "name": "ipython",
    "version": 3
   },
   "file_extension": ".py",
   "mimetype": "text/x-python",
   "name": "python",
   "nbconvert_exporter": "python",
   "pygments_lexer": "ipython3",
   "version": "3.9.7"
  }
 },
 "nbformat": 4,
 "nbformat_minor": 5
}
